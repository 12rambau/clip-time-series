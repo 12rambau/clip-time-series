{
 "cells": [
  {
   "cell_type": "code",
   "execution_count": null,
   "metadata": {},
   "outputs": [],
   "source": [
    "from functools import partial\n",
    "from pathlib import Path\n",
    "\n",
    "import pandas as pd\n",
    "import geopandas as gdp\n",
    "from sepal_ui import sepalwidgets as sw\n",
    "from sepal_ui import mapping as sm\n",
    "import ipyvuetify as v\n",
    "\n",
    "from utils import messages as ms\n",
    "from utils import parameters as pm\n",
    "from scripts import table as run"
   ]
  },
  {
   "cell_type": "code",
   "execution_count": null,
   "metadata": {},
   "outputs": [],
   "source": [
    "#input and output as mutable objects \n",
    "class Table_io:\n",
    "    def __init__(self):\n",
    "        #input \n",
    "        self.json_table = None\n",
    "        \n",
    "        #output\n",
    "        self.pts = None\n",
    "        \n",
    "tb_io = Table_io()"
   ]
  },
  {
   "cell_type": "code",
   "execution_count": null,
   "metadata": {},
   "outputs": [],
   "source": [
    "# output to display messages \n",
    "test_output = sw.Alert()\n",
    "\n",
    "# btn \n",
    "test_btn = sw.Btn(ms.TEST_BTN, icon='mdi-check')\n",
    "\n",
    "# add some text\n",
    "test_text = sw.Markdown(ms.TEST_TEXT)\n",
    "\n",
    "#create a test downloader\n",
    "id_ = 'file_widget'\n",
    "title = \"Download test data File\"\n",
    "\n",
    "test_tile = sw.Tile(\n",
    "    id_,\n",
    "    title,\n",
    "    btn = test_btn,\n",
    "    inputs=[test_text],\n",
    "    output = test_output\n",
    ")"
   ]
  },
  {
   "cell_type": "code",
   "execution_count": null,
   "metadata": {},
   "outputs": [],
   "source": [
    "#output to display messages\n",
    "file_output = sw.Alert().add_msg(ms.TABLE_INTRO)\n",
    "\n",
    "#btn \n",
    "file_btn = sw.Btn(ms.TABLE_BTN, icon='mdi-check')\n",
    "\n",
    "#create the inputs\n",
    "file_select = sw.LoadTableField()\n",
    "file_output.bind(file_select, tb_io, 'json_table')\n",
    "\n",
    "#create a file selector \n",
    "id_ = 'file_widget'\n",
    "title = \"Select File\"\n",
    "\n",
    "file_tile = sw.Tile(\n",
    "    id_,\n",
    "    title,\n",
    "    btn=file_btn, \n",
    "    inputs=[file_select],\n",
    "    output=file_output\n",
    ")\n"
   ]
  },
  {
   "cell_type": "code",
   "execution_count": null,
   "metadata": {},
   "outputs": [],
   "source": [
    "#tiles to display the points on a map\n",
    "tb_map = sm.SepalMap()\n",
    "title = 'Display points'\n",
    "tb_map_tile = sw.Tile(\n",
    "    id_,\n",
    "    title,\n",
    "    inputs=[tb_map]\n",
    ")"
   ]
  },
  {
   "cell_type": "code",
   "execution_count": null,
   "metadata": {},
   "outputs": [],
   "source": [
    "#function to actualise the values of the select column tile \n",
    "def update_col(cols, values):\n",
    "    for col in cols:\n",
    "        col.items = values\n",
    "        col.v_model=None"
   ]
  },
  {
   "cell_type": "code",
   "execution_count": null,
   "metadata": {},
   "outputs": [],
   "source": [
    "import json\n",
    "\n",
    "def load_file(widget, event, data, output, m):\n",
    "    \n",
    "    # toggle the loading button \n",
    "    widget.toggle_loading()\n",
    "    \n",
    "    # define variable \n",
    "    table = json.loads(tb_io.json_table)\n",
    "    file = table['pathname']\n",
    "    lat = table['lat_column']\n",
    "    lng = table['lng_column']\n",
    "    id_ = table['id_column']\n",
    "    \n",
    "    \n",
    "    # check the variables \n",
    "    if not output.check_input(file, ms.NOT_A_FILE): return widget.toggle_loading()\n",
    "    if not output.check_input(lat, ms.MISSING_INPUT): return widget.toggle_input()\n",
    "    if not output.check_input(lng, ms.MISSING_INPUT): return widget.toggle_input()\n",
    "    if not output.check_input(id_, ms.MISSING_INPUT): return widget.toggle_input()    \n",
    "    \n",
    "    # verify that they are all unique\n",
    "    if len(set([lat, lng, id_])) != len([lat, lng, id_]): \n",
    "        output.add_msg(ms.REPEATED_INPUT, 'error')\n",
    "        return widget.toggle_loading()\n",
    "    \n",
    "    try:\n",
    "        # create the pts geodataframe\n",
    "        df = pd.read_csv(file, sep=None, engine='python')\n",
    "        df = df.filter(items=[lat, lng, id_])\n",
    "        df = df.rename(columns={lat: 'lat', lng: 'lng', id_: 'id'})\n",
    "        gdf = gdp.GeoDataFrame(df, geometry=gdp.points_from_xy(df.lng, df.lat), crs='EPSG:4326')\n",
    "    \n",
    "        # load the map\n",
    "        run.setMap(gdf, m) \n",
    "    \n",
    "        # set the dataframe in output \n",
    "        tb_io.pts = gdf\n",
    "    \n",
    "        output.add_msg(ms.VALID_COLUMNS, 'success')\n",
    "        \n",
    "    except Exception as e: \n",
    "        output.add_live_msg(str(e), 'error')\n",
    "    \n",
    "    # toggle the loading button \n",
    "    widget.toggle_loading()\n",
    "    \n",
    "    return \n",
    "\n",
    "file_btn.on_event('click', partial(\n",
    "    load_file,\n",
    "    output = file_output,\n",
    "    m = tb_map\n",
    "))"
   ]
  },
  {
   "cell_type": "code",
   "execution_count": null,
   "metadata": {},
   "outputs": [],
   "source": [
    "def import_test_file(widget, event, data, output):\n",
    "\n",
    "    widget.toggle_loading()\n",
    "\n",
    "    # download the test dataset to the download folder \n",
    "    test_file = run.download_test_file(output)\n",
    "    \n",
    "    # add the file name to the file selector\n",
    "    # need to update the fileinput component\n",
    "    \n",
    "    widget.toggle_loading()\n",
    "    \n",
    "    return \n",
    "\n",
    "test_btn.on_event('click', partial(\n",
    "    import_test_file,\n",
    "    output = test_output\n",
    "))"
   ]
  },
  {
   "cell_type": "code",
   "execution_count": null,
   "metadata": {},
   "outputs": [],
   "source": [
    "test_tile"
   ]
  },
  {
   "cell_type": "code",
   "execution_count": null,
   "metadata": {},
   "outputs": [],
   "source": [
    "file_tile"
   ]
  },
  {
   "cell_type": "code",
   "execution_count": null,
   "metadata": {},
   "outputs": [],
   "source": [
    "tb_map_tile"
   ]
  },
  {
   "cell_type": "code",
   "execution_count": null,
   "metadata": {},
   "outputs": [],
   "source": []
  }
 ],
 "metadata": {
  "kernelspec": {
   "display_name": "Python 3",
   "language": "python",
   "name": "python3"
  },
  "language_info": {
   "codemirror_mode": {
    "name": "ipython",
    "version": 3
   },
   "file_extension": ".py",
   "mimetype": "text/x-python",
   "name": "python",
   "nbconvert_exporter": "python",
   "pygments_lexer": "ipython3",
   "version": "3.6.9"
  }
 },
 "nbformat": 4,
 "nbformat_minor": 4
}
